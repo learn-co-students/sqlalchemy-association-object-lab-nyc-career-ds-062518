{
 "cells": [
  {
   "cell_type": "markdown",
   "metadata": {},
   "source": [
    "# SQLAlchemy Association Object Many to Many Lab"
   ]
  },
  {
   "cell_type": "markdown",
   "metadata": {},
   "source": [
    "## Objectives\n",
    "\n",
    "1.  Understand how an Association Object join table differs from a basic \"has many through\" join table\n",
    "2.  Write a \"has many through\" relationship using an Association Object as the join table\n",
    "3.  Become comfortable with the syntax required for setting up an Association Object"
   ]
  },
  {
   "cell_type": "markdown",
   "metadata": {},
   "source": [
    "## Introduction\n",
    "\n",
    "In the previous lab, we created a \"has many through\" relationship between `Actor`s and `Role`s using a join table consisting of only foreign keys, the `actor_id` and `role_id`.  In this lab, we will write another \"has many through\" relationship but this time with a join table that contains other information on it.\n",
    "\n",
    "We will work with the following classes: `Artist`, `Genre`, and `Song`.  In this case, the `Song` class will be mapped to and serve as our \"join table\".  It will contain its own `id` (primary key), the `artist_id` and `genre_id` foreign keys, and a `name`.\n",
    "\n",
    "* An Artist has many Songs and has many Genres through Songs\n",
    "* A Genre has many Songs and has many Artists through Songs\n",
    "* Every Song belongs to an Artist and belongs to a Genre\n",
    "\n",
    "When properly setup, we should be able to see every Artist's songs with `Artist.songs` and genres with `Artist.genres`.  Likewise, we should be able to see all of a Genre's songs with `Genre.songs` and artists with `Genre.artists`."
   ]
  },
  {
   "cell_type": "markdown",
   "metadata": {},
   "source": [
    "## Instructions"
   ]
  },
  {
   "cell_type": "markdown",
   "metadata": {},
   "source": [
    "We will write all of our model classes in the `models.py` file in this lab.\n",
    "\n",
    "Our Artist and Genre models will be set up just like a normal \"has many through\" relationship; however, we will need to provide further information to our Song Association Object."
   ]
  },
  {
   "cell_type": "markdown",
   "metadata": {},
   "source": [
    "#### `Artist`\n",
    "\n",
    "Every Artist will have:\n",
    "* an `id` (primary key)\n",
    "* a `name`\n",
    "* a `songs` parameter that establishes the relationship to the Song model and `back_populates` to the artist property of the Song model \n",
    "* a `genres` parameter that configures the has many genres through songs relationship in the format below:\n",
    "> ```python\n",
    "genres = relationship('Genre', secondary='songs', back_populates='artists')\n",
    "  ```"
   ]
  },
  {
   "cell_type": "markdown",
   "metadata": {},
   "source": [
    "#### `Genre`\n",
    "\n",
    "Similarly, every Genre will have:\n",
    "* an `id` (primary key)\n",
    "* a `name`\n",
    "* a `songs` parameter that establishes the relationship to the Song model and `back_populates` to the genre property of the Song model \n",
    "* an `artists` parameter that configures the has many artists through songs relationship"
   ]
  },
  {
   "cell_type": "markdown",
   "metadata": {},
   "source": [
    "#### `Song`\n",
    "\n",
    "Similar to the normal \"has many through\" relationship, our Song join table will have foreign keys for `artist_id` and `genre_id` that use the ForeignKey function to point to their respective matching remote table id values.\n",
    "\n",
    "Since each Song is its own object with its own properties, we need to add the following:\n",
    "- an `id` (primary key) column\n",
    "- a `name`\n",
    "- an `artist` attribute that establishes the relationship to the Artist model and `back_populates` to an Artist's songs property\n",
    "- a `genre` attribute that establishes the relationship to the Genre model and `back_populates` to a Genre's songs property"
   ]
  },
  {
   "cell_type": "markdown",
   "metadata": {},
   "source": [
    "#### That's It!"
   ]
  },
  {
   "cell_type": "markdown",
   "metadata": {},
   "source": [
    "Now we can make associate Songs to their Artists, and subsequently associate the Genres back to these Artists through the Songs.\n",
    "\n",
    "Although there are no tests for queries, feel free to experiment with the data inserted into the database you just created in the `queries.py` file.  The data inserted into the tables can be viewed in the `seed.py` file.  To experiment, uncomment `import pdb; pdb.set_trace()` and remove the `pass` command from the function in `queries.py`.  Run the tests and you will be able to play with a `session` object in your terminal!"
   ]
  },
  {
   "cell_type": "code",
   "execution_count": 51,
   "metadata": {},
   "outputs": [],
   "source": [
    "from models import *\n",
    "from sqlalchemy import create_engine\n",
    "engine = create_engine('sqlite:///music.db')\n",
    "Session = sessionmaker(bind=engine)\n",
    "session = Session()"
   ]
  },
  {
   "cell_type": "code",
   "execution_count": 52,
   "metadata": {},
   "outputs": [
    {
     "data": {
      "text/plain": [
       "<models.Artist at 0x10d9ce898>"
      ]
     },
     "execution_count": 52,
     "metadata": {},
     "output_type": "execute_result"
    }
   ],
   "source": [
    "#look for all the artists its songs \n",
    "session.query(Song).all()[0].artist"
   ]
  },
  {
   "cell_type": "code",
   "execution_count": 64,
   "metadata": {},
   "outputs": [
    {
     "ename": "NameError",
     "evalue": "name 'song' is not defined",
     "output_type": "error",
     "traceback": [
      "\u001b[0;31m---------------------------------------------------------------------------\u001b[0m",
      "\u001b[0;31mNameError\u001b[0m                                 Traceback (most recent call last)",
      "\u001b[0;32m<ipython-input-64-8dec2a99edcf>\u001b[0m in \u001b[0;36m<module>\u001b[0;34m()\u001b[0m\n\u001b[0;32m----> 1\u001b[0;31m \u001b[0msession\u001b[0m\u001b[0;34m.\u001b[0m\u001b[0mquery\u001b[0m\u001b[0;34m(\u001b[0m\u001b[0mSong\u001b[0m\u001b[0;34m)\u001b[0m\u001b[0;34m.\u001b[0m\u001b[0mfilter_by\u001b[0m\u001b[0;34m(\u001b[0m\u001b[0mname\u001b[0m\u001b[0;34m=\u001b[0m\u001b[0msong\u001b[0m\u001b[0;34m)\u001b[0m\u001b[0;34m.\u001b[0m\u001b[0mfirst\u001b[0m\u001b[0;34m(\u001b[0m\u001b[0;34m)\u001b[0m\u001b[0;34m.\u001b[0m\u001b[0martist\u001b[0m\u001b[0;34m\u001b[0m\u001b[0m\n\u001b[0m",
      "\u001b[0;31mNameError\u001b[0m: name 'song' is not defined"
     ]
    }
   ],
   "source": [
    "session.query(Song).filter_by(name=song).first().artist\n"
   ]
  },
  {
   "cell_type": "code",
   "execution_count": null,
   "metadata": {},
   "outputs": [],
   "source": []
  }
 ],
 "metadata": {
  "kernelspec": {
   "display_name": "Python 3",
   "language": "python",
   "name": "python3"
  },
  "language_info": {
   "codemirror_mode": {
    "name": "ipython",
    "version": 3
   },
   "file_extension": ".py",
   "mimetype": "text/x-python",
   "name": "python",
   "nbconvert_exporter": "python",
   "pygments_lexer": "ipython3",
   "version": "3.6.5"
  }
 },
 "nbformat": 4,
 "nbformat_minor": 2
}
